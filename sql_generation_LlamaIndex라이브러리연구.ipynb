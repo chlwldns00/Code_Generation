{
 "cells": [
  {
   "cell_type": "markdown",
   "metadata": {},
   "source": [
    "## SQL GENERATION llm->GPT3.5turbo\\\n",
    "### 필요모듈 import"
   ]
  },
  {
   "cell_type": "code",
   "execution_count": 1,
   "metadata": {},
   "outputs": [],
   "source": [
    "from sqlalchemy import (\n",
    "    create_engine,\n",
    "    MetaData,\n",
    "    Table,\n",
    "    Column,\n",
    "    String,\n",
    "    Integer,\n",
    "    select,\n",
    "    column,\n",
    ")\n",
    "\n",
    "from sqlalchemy import insert\n",
    "from llama_index.indices.struct_store.sql_query import NLSQLTableQueryEngine\n",
    "from llama_index import Document, ListIndex\n",
    "from llama_index import SQLDatabase, ServiceContext\n",
    "from llama_index.llms import ChatMessage, OpenAI\n",
    "from typing import List\n",
    "import ast\n",
    "import openai\n",
    "from IPython.display import display, HTML"
   ]
  },
  {
   "cell_type": "markdown",
   "metadata": {},
   "source": [
    "## sample data  "
   ]
  },
  {
   "cell_type": "code",
   "execution_count": 2,
   "metadata": {},
   "outputs": [],
   "source": [
    "rows = [\n",
    "    # iPhone13 Reviews\n",
    "    {\"id\": 1, \"category\": \"Phone\", \"product_name\": \"Iphone13\", \"review\": \"Amazing battery life and camera quality. Best iPhone yet.\"},\n",
    "    {\"id\": 2, \"category\": \"Phone\", \"product_name\": \"Iphone13\", \"review\": \"Stunning design and performance. Apple has done it again.\"},\n",
    "    {\"id\": 3, \"category\": \"Phone\", \"product_name\": \"Iphone13\", \"review\": \"The display is just incredible. Love the A15 chip's speed.\"},\n",
    "    {\"id\": 4, \"category\": \"Phone\", \"product_name\": \"Iphone13\", \"review\": \"Superb user experience with the new iOS. Seamless and smooth.\"},\n",
    "    {\"id\": 5, \"category\": \"Phone\", \"product_name\": \"Iphone13\", \"review\": \"5G capabilities are outstanding. Internet browsing is lightning fast.\"},\n",
    "    {\"id\": 6, \"category\": \"Phone\", \"product_name\": \"Iphone13\", \"review\": \"The build quality is top-notch. Feels premium in hand.\"},\n",
    "    {\"id\": 7, \"category\": \"Phone\", \"product_name\": \"Iphone13\", \"review\": \"Love the enhanced camera system. Pictures are more vivid.\"},\n",
    "    {\"id\": 8, \"category\": \"Phone\", \"product_name\": \"Iphone13\", \"review\": \"Face ID is faster and more responsive.\"},\n",
    "    {\"id\": 9, \"category\": \"Phone\", \"product_name\": \"Iphone13\", \"review\": \"Storage options are great. Worth the investment.\"},\n",
    "    {\"id\": 10, \"category\": \"Phone\", \"product_name\": \"Iphone13\", \"review\": \"Night mode photos are simply outstanding.\"},\n",
    "    {\"id\": 11, \"category\": \"Phone\", \"product_name\": \"Iphone13\", \"review\": \"The ceramic shield front cover is a nice touch.\"},\n",
    "    {\"id\": 12, \"category\": \"Phone\", \"product_name\": \"Iphone13\", \"review\": \"Battery life lasts all day even with heavy use.\"},\n",
    "    {\"id\": 13, \"category\": \"Phone\", \"product_name\": \"Iphone13\", \"review\": \"Video recording quality is cinema-grade.\"},\n",
    "    {\"id\": 14, \"category\": \"Phone\", \"product_name\": \"Iphone13\", \"review\": \"Gaming experience is smooth with no lags.\"},\n",
    "    {\"id\": 15, \"category\": \"Phone\", \"product_name\": \"Iphone13\", \"review\": \"Dual eSIM support is a game changer for travelers.\"},\n",
    "    {\"id\": 16, \"category\": \"Phone\", \"product_name\": \"Iphone13\", \"review\": \"Stereo speakers produce clear and loud audio.\"},\n",
    "    {\"id\": 17, \"category\": \"Phone\", \"product_name\": \"Iphone13\", \"review\": \"MagSafe accessories add to its versatility.\"},\n",
    "    {\"id\": 18, \"category\": \"Phone\", \"product_name\": \"Iphone13\", \"review\": \"Water and dust resistance is reliable.\"},\n",
    "    {\"id\": 19, \"category\": \"Phone\", \"product_name\": \"Iphone13\", \"review\": \"Graphics and performance are top-tier.\"},\n",
    "    {\"id\": 20, \"category\": \"Phone\", \"product_name\": \"Iphone13\", \"review\": \"All-around, the best smartphone on the market.\"},\n",
    "\n",
    "    # SamsungTV Reviews\n",
    "    {\"id\": 21, \"category\": \"TV\", \"product_name\": \"SamsungTV\", \"review\": \"Impressive picture clarity and vibrant colors. A top-notch TV.\"},\n",
    "    {\"id\": 22, \"category\": \"TV\", \"product_name\": \"SamsungTV\", \"review\": \"Love the smart features and the remote. Simplifies everything.\"},\n",
    "    {\"id\": 23, \"category\": \"TV\", \"product_name\": \"SamsungTV\", \"review\": \"Sound quality could be better. Picture is stunning though.\"},\n",
    "    {\"id\": 24, \"category\": \"TV\", \"product_name\": \"SamsungTV\", \"review\": \"Connectivity options are plenty and easy to set up.\"},\n",
    "    {\"id\": 25, \"category\": \"TV\", \"product_name\": \"SamsungTV\", \"review\": \"Sleek design that complements the living room decor.\"},\n",
    "    {\"id\": 26, \"category\": \"TV\", \"product_name\": \"SamsungTV\", \"review\": \"The built-in apps and interface are user-friendly.\"},\n",
    "    {\"id\": 27, \"category\": \"TV\", \"product_name\": \"SamsungTV\", \"review\": \"Ambient mode is a nice touch for when not watching.\"},\n",
    "    {\"id\": 28, \"category\": \"TV\", \"product_name\": \"SamsungTV\", \"review\": \"Gaming mode offers a fantastic experience with low latency.\"},\n",
    "    {\"id\": 29, \"category\": \"TV\", \"product_name\": \"SamsungTV\", \"review\": \"HDR content looks spectacular.\"},\n",
    "    {\"id\": 30, \"category\": \"TV\", \"product_name\": \"SamsungTV\", \"review\": \"Remote control with voice command is super convenient.\"},\n",
    "    {\"id\": 31, \"category\": \"TV\", \"product_name\": \"SamsungTV\", \"review\": \"Crisp and clear audio, though an external system enhances it.\"},\n",
    "    {\"id\": 32, \"category\": \"TV\", \"product_name\": \"SamsungTV\", \"review\": \"Wall mounting was straightforward and secure.\"},\n",
    "    {\"id\": 33, \"category\": \"TV\", \"product_name\": \"SamsungTV\", \"review\": \"Streaming apps load quickly and play smoothly.\"},\n",
    "    {\"id\": 34, \"category\": \"TV\", \"product_name\": \"SamsungTV\", \"review\": \"Regular software updates keep the TV fresh.\"},\n",
    "    {\"id\": 35, \"category\": \"TV\", \"product_name\": \"SamsungTV\", \"review\": \"Multiple HDMI ports allow for various device connections.\"},\n",
    "    {\"id\": 36, \"category\": \"TV\", \"product_name\": \"SamsungTV\", \"review\": \"Power consumption is efficient.\"},\n",
    "    {\"id\": 37, \"category\": \"TV\", \"product_name\": \"SamsungTV\", \"review\": \"Tizen OS is intuitive and bug-free.\"},\n",
    "    {\"id\": 38, \"category\": \"TV\", \"product_name\": \"SamsungTV\", \"review\": \"The contrast ratio and deep blacks are impressive.\"},\n",
    "    {\"id\": 39, \"category\": \"TV\", \"product_name\": \"SamsungTV\", \"review\": \"No motion blur during fast-paced scenes.\"},\n",
    "    {\"id\": 40, \"category\": \"TV\", \"product_name\": \"SamsungTV\", \"review\": \"Overall, a solid investment for quality viewing.\"},\n",
    "\n",
    "    # Ergonomic Chair Reviews\n",
    "    {\"id\": 41, \"category\": \"Furniture\", \"product_name\": \"Ergonomic Chair\", \"review\": \"Feels really comfortable even after long hours.\"},\n",
    "    {\"id\": 42, \"category\": \"Furniture\", \"product_name\": \"Ergonomic Chair\", \"review\": \"Assembly was a bit tough, but the comfort is unmatched.\"},\n",
    "    {\"id\": 43, \"category\": \"Furniture\", \"product_name\": \"Ergonomic Chair\", \"review\": \"Good support for back but wish it had more adjustability.\"},\n",
    "    {\"id\": 44, \"category\": \"Furniture\", \"product_name\": \"Ergonomic Chair\", \"review\": \"The material breathes well. No more sweaty backs.\"},\n",
    "    {\"id\": 45, \"category\": \"Furniture\", \"product_name\": \"Ergonomic Chair\", \"review\": \"Sturdy build and doesn't wobble.\"},\n",
    "    {\"id\": 46, \"category\": \"Furniture\", \"product_name\": \"Ergonomic Chair\", \"review\": \"The adjustable armrests are a godsend.\"},\n",
    "    {\"id\": 47, \"category\": \"Furniture\", \"product_name\": \"Ergonomic Chair\", \"review\": \"Feels like a high-end chair but without the hefty price tag.\"},\n",
    "    {\"id\": 48, \"category\": \"Furniture\", \"product_name\": \"Ergonomic Chair\", \"review\": \"Rollers are smooth and don't scratch the floor.\"},\n",
    "    {\"id\": 49, \"category\": \"Furniture\", \"product_name\": \"Ergonomic Chair\", \"review\": \"The reclining feature is smooth and holds well.\"},\n",
    "    {\"id\": 50, \"category\": \"Furniture\", \"product_name\": \"Ergonomic Chair\", \"review\": \"Perfect for both office and gaming needs.\"},\n",
    "    {\"id\": 51, \"category\": \"Furniture\", \"product_name\": \"Ergonomic Chair\", \"review\": \"Height adjustment is fluid and stays in place.\"},\n",
    "    {\"id\": 52, \"category\": \"Furniture\", \"product_name\": \"Ergonomic Chair\", \"review\": \"The cushioning is just right - not too soft or too firm.\"},\n",
    "    {\"id\": 53, \"category\": \"Furniture\", \"product_name\": \"Ergonomic Chair\", \"review\": \"Customer service was helpful with inquiries.\"},\n",
    "    {\"id\": 54, \"category\": \"Furniture\", \"product_name\": \"Ergonomic Chair\", \"review\": \"Fits well in both professional and casual room settings.\"},\n",
    "    {\"id\": 55, \"category\": \"Furniture\", \"product_name\": \"Ergonomic Chair\", \"review\": \"The headrest provides adequate neck support.\"},\n",
    "    {\"id\": 56, \"category\": \"Furniture\", \"product_name\": \"Ergonomic Chair\", \"review\": \"Maintains good posture even after extended use.\"},\n",
    "    {\"id\": 57, \"category\": \"Furniture\", \"product_name\": \"Ergonomic Chair\", \"review\": \"The lumbar support is adjustable and supportive.\"},\n",
    "    {\"id\": 58, \"category\": \"Furniture\", \"product_name\": \"Ergonomic Chair\", \"review\": \"Easy to clean and maintain.\"},\n",
    "    {\"id\": 59, \"category\": \"Furniture\", \"product_name\": \"Ergonomic Chair\", \"review\": \"Quality far surpasses the price.\"},\n",
    "    {\"id\": 60, \"category\": \"Furniture\", \"product_name\": \"Ergonomic Chair\", \"review\": \"A great investment for anyone spending hours seated.\"},\n",
    "]\n"
   ]
  },
  {
   "cell_type": "markdown",
   "metadata": {},
   "source": [
    "## create sample db"
   ]
  },
  {
   "cell_type": "code",
   "execution_count": null,
   "metadata": {},
   "outputs": [],
   "source": [
    "engine = create_engine(\"sqlite:///:memory:\")\n",
    "metadata_obj = MetaData()\n",
    "\n",
    "# create product reviews SQL table\n",
    "table_name = \"product_reviews\"\n",
    "city_stats_table = Table(\n",
    "    table_name,\n",
    "    metadata_obj,\n",
    "    Column(\"id\", Integer(), primary_key=True),\n",
    "    Column(\"category\", String(16), primary_key=True),\n",
    "    Column(\"product_name\", Integer),\n",
    "    Column(\"review\", String(16), nullable=False)\n",
    ")\n",
    "metadata_obj.create_all(engine)\n",
    "\n",
    "sql_database = SQLDatabase(engine, include_tables=[\"product_reviews\"])\n",
    "\n",
    "for row in rows:\n",
    "    stmt = insert(city_stats_table).values(**row)\n",
    "    with engine.connect() as connection:\n",
    "        cursor = connection.execute(stmt)\n",
    "        connection.commit()"
   ]
  }
 ],
 "metadata": {
  "kernelspec": {
   "display_name": "Python 3",
   "language": "python",
   "name": "python3"
  },
  "language_info": {
   "codemirror_mode": {
    "name": "ipython",
    "version": 3
   },
   "file_extension": ".py",
   "mimetype": "text/x-python",
   "name": "python",
   "nbconvert_exporter": "python",
   "pygments_lexer": "ipython3",
   "version": "3.11.5"
  },
  "orig_nbformat": 4
 },
 "nbformat": 4,
 "nbformat_minor": 2
}
